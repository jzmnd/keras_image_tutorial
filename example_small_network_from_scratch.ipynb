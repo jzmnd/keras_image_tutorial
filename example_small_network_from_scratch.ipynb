{
 "cells": [
  {
   "cell_type": "markdown",
   "metadata": {},
   "source": [
    "# Building powerful image classification models using very little data\n",
    "\n",
    "https://blog.keras.io/building-powerful-image-classification-models-using-very-little-data.html"
   ]
  },
  {
   "cell_type": "code",
   "execution_count": 1,
   "metadata": {},
   "outputs": [],
   "source": [
    "%load_ext autoreload\n",
    "%autoreload 2"
   ]
  },
  {
   "cell_type": "code",
   "execution_count": 2,
   "metadata": {},
   "outputs": [],
   "source": [
    "%matplotlib inline"
   ]
  },
  {
   "cell_type": "code",
   "execution_count": 3,
   "metadata": {},
   "outputs": [],
   "source": [
    "import os\n",
    "import datetime as dt\n",
    "import numpy as np\n",
    "import pandas as pd"
   ]
  },
  {
   "cell_type": "code",
   "execution_count": 4,
   "metadata": {},
   "outputs": [
    {
     "name": "stderr",
     "output_type": "stream",
     "text": [
      "Using TensorFlow backend.\n"
     ]
    }
   ],
   "source": [
    "from keras.preprocessing.image import ImageDataGenerator\n",
    "from keras.preprocessing.image import array_to_img, img_to_array, load_img"
   ]
  },
  {
   "cell_type": "code",
   "execution_count": 5,
   "metadata": {},
   "outputs": [],
   "source": [
    "from keras.models import Sequential\n",
    "from keras.layers import Conv2D, MaxPooling2D\n",
    "from keras.layers import Activation, Dropout, Flatten, Dense"
   ]
  },
  {
   "cell_type": "code",
   "execution_count": 6,
   "metadata": {},
   "outputs": [],
   "source": [
    "from keras import backend as K\n",
    "K.set_image_dim_ordering('th')"
   ]
  },
  {
   "cell_type": "code",
   "execution_count": null,
   "metadata": {},
   "outputs": [],
   "source": []
  },
  {
   "cell_type": "markdown",
   "metadata": {},
   "source": [
    "### Image data generation from transformations"
   ]
  },
  {
   "cell_type": "code",
   "execution_count": 7,
   "metadata": {},
   "outputs": [],
   "source": [
    "datagen = ImageDataGenerator(\n",
    "    rotation_range=40,\n",
    "    width_shift_range=0.2,\n",
    "    height_shift_range=0.2,\n",
    "    shear_range=0.2,\n",
    "    zoom_range=0.2,\n",
    "    horizontal_flip=True,\n",
    "    fill_mode='nearest')"
   ]
  },
  {
   "cell_type": "code",
   "execution_count": 8,
   "metadata": {},
   "outputs": [],
   "source": [
    "img = load_img('data/train/cats/cat.0.jpg')"
   ]
  },
  {
   "cell_type": "code",
   "execution_count": 9,
   "metadata": {},
   "outputs": [],
   "source": [
    "x = img_to_array(img)\n",
    "x = x.reshape((1,) + x.shape)"
   ]
  },
  {
   "cell_type": "code",
   "execution_count": 10,
   "metadata": {},
   "outputs": [],
   "source": [
    "i = 0\n",
    "for batch in datagen.flow(x, batch_size=1, save_to_dir='preview', save_prefix='cat', save_format='jpeg'):\n",
    "    i += 1\n",
    "    if i > 20:\n",
    "        break"
   ]
  },
  {
   "cell_type": "code",
   "execution_count": null,
   "metadata": {},
   "outputs": [],
   "source": []
  },
  {
   "cell_type": "markdown",
   "metadata": {},
   "source": [
    "### Build small convnet"
   ]
  },
  {
   "cell_type": "code",
   "execution_count": 11,
   "metadata": {},
   "outputs": [],
   "source": [
    "model = Sequential()"
   ]
  },
  {
   "cell_type": "code",
   "execution_count": 12,
   "metadata": {},
   "outputs": [],
   "source": [
    "# input conv2d layer layer 32 filters, 3x3 kernel\n",
    "model.add(Conv2D(32, (3, 3), input_shape=(3, 150, 150)))\n",
    "model.add(Activation('relu'))\n",
    "model.add(MaxPooling2D(pool_size=(2, 2)))\n",
    "\n",
    "# conv2d layer 32 filters, 3x3 kernel\n",
    "model.add(Conv2D(32, (3, 3)))\n",
    "model.add(Activation('relu'))\n",
    "model.add(MaxPooling2D(pool_size=(2, 2)))\n",
    "\n",
    "# conv2d layer 64 filters, 3x3 kernel\n",
    "model.add(Conv2D(64, (3, 3)))\n",
    "model.add(Activation('relu'))\n",
    "model.add(MaxPooling2D(pool_size=(2, 2)))"
   ]
  },
  {
   "cell_type": "code",
   "execution_count": 13,
   "metadata": {},
   "outputs": [],
   "source": [
    "# this converts our 3D feature maps to 1D feature vectors\n",
    "model.add(Flatten())\n",
    "\n",
    "# fully connected layer, 64 outputs\n",
    "model.add(Dense(64))\n",
    "model.add(Activation('relu'))\n",
    "\n",
    "model.add(Dropout(0.5))\n",
    "\n",
    "# output layer and sigmoid activation\n",
    "model.add(Dense(1))\n",
    "model.add(Activation('sigmoid'))"
   ]
  },
  {
   "cell_type": "code",
   "execution_count": 14,
   "metadata": {},
   "outputs": [],
   "source": [
    "model.compile(loss='binary_crossentropy',\n",
    "              optimizer='rmsprop',\n",
    "              metrics=['accuracy'])"
   ]
  },
  {
   "cell_type": "code",
   "execution_count": null,
   "metadata": {},
   "outputs": [],
   "source": []
  },
  {
   "cell_type": "markdown",
   "metadata": {},
   "source": [
    "### Set up data generators"
   ]
  },
  {
   "cell_type": "code",
   "execution_count": 15,
   "metadata": {},
   "outputs": [],
   "source": [
    "batch_size = 16\n",
    "nb_train_samples = 4000\n",
    "nb_validation_samples = 800\n",
    "epochs = 50"
   ]
  },
  {
   "cell_type": "code",
   "execution_count": 16,
   "metadata": {},
   "outputs": [],
   "source": [
    "# this is the augmentation configuration we will use for training\n",
    "train_datagen = ImageDataGenerator(\n",
    "        rescale=1./255,\n",
    "        shear_range=0.2,\n",
    "        zoom_range=0.2,\n",
    "        horizontal_flip=True)"
   ]
  },
  {
   "cell_type": "code",
   "execution_count": 17,
   "metadata": {},
   "outputs": [],
   "source": [
    "# this is the augmentation configuration we will use for testing (only rescaling)\n",
    "test_datagen = ImageDataGenerator(rescale=1./255)"
   ]
  },
  {
   "cell_type": "code",
   "execution_count": 18,
   "metadata": {},
   "outputs": [
    {
     "name": "stdout",
     "output_type": "stream",
     "text": [
      "Found 4000 images belonging to 2 classes.\n"
     ]
    }
   ],
   "source": [
    "# this is a generator that will read pictures found in subfolders of 'data/train', and indefinitely generate\n",
    "# batches of augmented image data\n",
    "train_generator = train_datagen.flow_from_directory(\n",
    "        'data/train',            # this is the target directory\n",
    "        target_size=(150, 150),  # all images will be resized to 150x150\n",
    "        batch_size=batch_size,\n",
    "        class_mode='binary')     # since we use binary_crossentropy loss, we need binary labels"
   ]
  },
  {
   "cell_type": "code",
   "execution_count": 19,
   "metadata": {},
   "outputs": [
    {
     "name": "stdout",
     "output_type": "stream",
     "text": [
      "Found 800 images belonging to 2 classes.\n"
     ]
    }
   ],
   "source": [
    "# this is a similar generator, for validation data\n",
    "validation_generator = test_datagen.flow_from_directory(\n",
    "        'data/validation',\n",
    "        target_size=(150, 150),\n",
    "        batch_size=batch_size,\n",
    "        class_mode='binary')"
   ]
  },
  {
   "cell_type": "code",
   "execution_count": null,
   "metadata": {},
   "outputs": [],
   "source": []
  },
  {
   "cell_type": "markdown",
   "metadata": {},
   "source": [
    "### Train model"
   ]
  },
  {
   "cell_type": "code",
   "execution_count": 20,
   "metadata": {},
   "outputs": [
    {
     "name": "stdout",
     "output_type": "stream",
     "text": [
      "Epoch 1/50\n",
      "250/250 [==============================] - 294s 1s/step - loss: 0.6985 - acc: 0.5507 - val_loss: 0.6664 - val_acc: 0.5563\n",
      "Epoch 2/50\n",
      "250/250 [==============================] - 286s 1s/step - loss: 0.6562 - acc: 0.6295 - val_loss: 0.5731 - val_acc: 0.7200\n",
      "Epoch 3/50\n",
      "250/250 [==============================] - 278s 1s/step - loss: 0.6117 - acc: 0.6780 - val_loss: 0.5537 - val_acc: 0.7063\n",
      "Epoch 4/50\n",
      "250/250 [==============================] - 275s 1s/step - loss: 0.5957 - acc: 0.6925 - val_loss: 0.5648 - val_acc: 0.7100\n",
      "Epoch 5/50\n",
      "250/250 [==============================] - 276s 1s/step - loss: 0.5760 - acc: 0.7080 - val_loss: 0.5213 - val_acc: 0.7388\n",
      "Epoch 6/50\n",
      "250/250 [==============================] - 279s 1s/step - loss: 0.5624 - acc: 0.7275 - val_loss: 0.5274 - val_acc: 0.7425\n",
      "Epoch 7/50\n",
      "250/250 [==============================] - 278s 1s/step - loss: 0.5455 - acc: 0.7330 - val_loss: 0.7231 - val_acc: 0.6162\n",
      "Epoch 8/50\n",
      "250/250 [==============================] - 276s 1s/step - loss: 0.5239 - acc: 0.7442 - val_loss: 0.4962 - val_acc: 0.7625\n",
      "Epoch 9/50\n",
      "250/250 [==============================] - 276s 1s/step - loss: 0.5109 - acc: 0.7550 - val_loss: 0.4780 - val_acc: 0.7738\n",
      "Epoch 10/50\n",
      "250/250 [==============================] - 277s 1s/step - loss: 0.5012 - acc: 0.7630 - val_loss: 0.5010 - val_acc: 0.7725\n",
      "Epoch 11/50\n",
      "250/250 [==============================] - 277s 1s/step - loss: 0.4963 - acc: 0.7723 - val_loss: 0.4873 - val_acc: 0.7625\n",
      "Epoch 12/50\n",
      "250/250 [==============================] - 276s 1s/step - loss: 0.4914 - acc: 0.7808 - val_loss: 0.5824 - val_acc: 0.7550\n",
      "Epoch 13/50\n",
      "250/250 [==============================] - 276s 1s/step - loss: 0.4854 - acc: 0.7732 - val_loss: 0.4387 - val_acc: 0.8087\n",
      "Epoch 14/50\n",
      "250/250 [==============================] - 277s 1s/step - loss: 0.4796 - acc: 0.7808 - val_loss: 0.4394 - val_acc: 0.7975\n",
      "Epoch 15/50\n",
      "250/250 [==============================] - 276s 1s/step - loss: 0.4725 - acc: 0.7935 - val_loss: 0.4827 - val_acc: 0.7850\n",
      "Epoch 16/50\n",
      "250/250 [==============================] - 276s 1s/step - loss: 0.4715 - acc: 0.7842 - val_loss: 0.4916 - val_acc: 0.7950\n",
      "Epoch 17/50\n",
      "250/250 [==============================] - 275s 1s/step - loss: 0.4688 - acc: 0.7853 - val_loss: 0.5972 - val_acc: 0.7950\n",
      "Epoch 18/50\n",
      "250/250 [==============================] - 276s 1s/step - loss: 0.4695 - acc: 0.7905 - val_loss: 0.4388 - val_acc: 0.8125\n",
      "Epoch 19/50\n",
      "250/250 [==============================] - 277s 1s/step - loss: 0.4680 - acc: 0.7950 - val_loss: 0.4770 - val_acc: 0.7775\n",
      "Epoch 20/50\n",
      "250/250 [==============================] - 276s 1s/step - loss: 0.4592 - acc: 0.7918 - val_loss: 0.4396 - val_acc: 0.8137\n",
      "Epoch 21/50\n",
      "250/250 [==============================] - 276s 1s/step - loss: 0.4612 - acc: 0.7985 - val_loss: 0.4233 - val_acc: 0.8187\n",
      "Epoch 22/50\n",
      "250/250 [==============================] - 279s 1s/step - loss: 0.4588 - acc: 0.8000 - val_loss: 0.4118 - val_acc: 0.8237\n",
      "Epoch 23/50\n",
      "250/250 [==============================] - 284s 1s/step - loss: 0.4566 - acc: 0.7947 - val_loss: 0.4217 - val_acc: 0.8213\n",
      "Epoch 24/50\n",
      "250/250 [==============================] - 283s 1s/step - loss: 0.4535 - acc: 0.8035 - val_loss: 0.4524 - val_acc: 0.7850\n",
      "Epoch 25/50\n",
      "250/250 [==============================] - 279s 1s/step - loss: 0.4504 - acc: 0.8095 - val_loss: 0.3908 - val_acc: 0.8225\n",
      "Epoch 26/50\n",
      "250/250 [==============================] - 281s 1s/step - loss: 0.4486 - acc: 0.8043 - val_loss: 0.4377 - val_acc: 0.8063\n",
      "Epoch 27/50\n",
      "250/250 [==============================] - 279s 1s/step - loss: 0.4598 - acc: 0.8067 - val_loss: 0.4640 - val_acc: 0.8063\n",
      "Epoch 28/50\n",
      "250/250 [==============================] - 279s 1s/step - loss: 0.4552 - acc: 0.8082 - val_loss: 0.4116 - val_acc: 0.8275\n",
      "Epoch 29/50\n",
      "250/250 [==============================] - 278s 1s/step - loss: 0.4459 - acc: 0.8103 - val_loss: 0.4307 - val_acc: 0.8250\n",
      "Epoch 30/50\n",
      "250/250 [==============================] - 278s 1s/step - loss: 0.4449 - acc: 0.8017 - val_loss: 0.6885 - val_acc: 0.7000\n",
      "Epoch 31/50\n",
      "250/250 [==============================] - 278s 1s/step - loss: 0.4596 - acc: 0.8075 - val_loss: 0.4570 - val_acc: 0.8063\n",
      "Epoch 32/50\n",
      "250/250 [==============================] - 281s 1s/step - loss: 0.4592 - acc: 0.7980 - val_loss: 0.4194 - val_acc: 0.8037\n",
      "Epoch 33/50\n",
      "250/250 [==============================] - 303s 1s/step - loss: 0.4443 - acc: 0.8077 - val_loss: 0.4557 - val_acc: 0.8037\n",
      "Epoch 34/50\n",
      "250/250 [==============================] - 306s 1s/step - loss: 0.4477 - acc: 0.8113 - val_loss: 0.4562 - val_acc: 0.8063\n",
      "Epoch 35/50\n",
      "250/250 [==============================] - 308s 1s/step - loss: 0.4495 - acc: 0.8040 - val_loss: 0.5069 - val_acc: 0.7812\n",
      "Epoch 36/50\n",
      "250/250 [==============================] - 309s 1s/step - loss: 0.4410 - acc: 0.8125 - val_loss: 0.4417 - val_acc: 0.8037\n",
      "Epoch 37/50\n",
      "250/250 [==============================] - 300s 1s/step - loss: 0.4422 - acc: 0.8100 - val_loss: 0.5144 - val_acc: 0.7500\n",
      "Epoch 38/50\n",
      "250/250 [==============================] - 281s 1s/step - loss: 0.4380 - acc: 0.8113 - val_loss: 0.4654 - val_acc: 0.7975\n",
      "Epoch 39/50\n",
      "250/250 [==============================] - 283s 1s/step - loss: 0.4522 - acc: 0.8050 - val_loss: 0.3889 - val_acc: 0.8325\n",
      "Epoch 40/50\n",
      "250/250 [==============================] - 278s 1s/step - loss: 0.4379 - acc: 0.8120 - val_loss: 0.4113 - val_acc: 0.8350\n",
      "Epoch 41/50\n",
      "250/250 [==============================] - 277s 1s/step - loss: 0.4359 - acc: 0.8082 - val_loss: 0.3961 - val_acc: 0.8462\n",
      "Epoch 42/50\n",
      "250/250 [==============================] - 277s 1s/step - loss: 0.4375 - acc: 0.8155 - val_loss: 0.5181 - val_acc: 0.8137\n",
      "Epoch 43/50\n",
      "250/250 [==============================] - 276s 1s/step - loss: 0.4430 - acc: 0.8027 - val_loss: 0.4204 - val_acc: 0.8213\n",
      "Epoch 44/50\n",
      "250/250 [==============================] - 278s 1s/step - loss: 0.4371 - acc: 0.8155 - val_loss: 0.5197 - val_acc: 0.7800\n",
      "Epoch 45/50\n",
      "250/250 [==============================] - 278s 1s/step - loss: 0.4275 - acc: 0.8220 - val_loss: 0.4382 - val_acc: 0.7975\n",
      "Epoch 46/50\n",
      "250/250 [==============================] - 277s 1s/step - loss: 0.4414 - acc: 0.8142 - val_loss: 0.4300 - val_acc: 0.7987\n",
      "Epoch 47/50\n",
      "250/250 [==============================] - 318s 1s/step - loss: 0.4428 - acc: 0.8045 - val_loss: 0.5197 - val_acc: 0.7712\n",
      "Epoch 48/50\n",
      "250/250 [==============================] - 316s 1s/step - loss: 0.4412 - acc: 0.8160 - val_loss: 0.4271 - val_acc: 0.8275\n",
      "Epoch 49/50\n",
      "250/250 [==============================] - 306s 1s/step - loss: 0.4378 - acc: 0.8245 - val_loss: 0.4198 - val_acc: 0.8287\n",
      "Epoch 50/50\n",
      "250/250 [==============================] - 310s 1s/step - loss: 0.4295 - acc: 0.8150 - val_loss: 0.4583 - val_acc: 0.8150\n"
     ]
    }
   ],
   "source": [
    "model_history = model.fit_generator(\n",
    "        train_generator,\n",
    "        steps_per_epoch=nb_train_samples // batch_size,\n",
    "        epochs=epochs,\n",
    "        validation_data=validation_generator,\n",
    "        validation_steps=nb_validation_samples // batch_size)\n",
    "model.save_weights('first_try.h5')"
   ]
  },
  {
   "cell_type": "code",
   "execution_count": 21,
   "metadata": {},
   "outputs": [
    {
     "data": {
      "image/png": "[encoded data removed]",
      "text/plain": [
       "<Figure size 432x288 with 1 Axes>"
      ]
     },
     "metadata": {
      "needs_background": "light"
     },
     "output_type": "display_data"
    }
   ],
   "source": [
    "pd.DataFrame(model_history.history).plot();"
   ]
  },
  {
   "cell_type": "code",
   "execution_count": null,
   "metadata": {},
   "outputs": [],
   "source": []
  }
 ],
 "metadata": {
  "kernelspec": {
   "display_name": "Python 3",
   "language": "python",
   "name": "python3"
  },
  "language_info": {
   "codemirror_mode": {
    "name": "ipython",
    "version": 3
   },
   "file_extension": ".py",
   "mimetype": "text/x-python",
   "name": "python",
   "nbconvert_exporter": "python",
   "pygments_lexer": "ipython3",
   "version": "3.6.8"
  }
 },
 "nbformat": 4,
 "nbformat_minor": 2
}
