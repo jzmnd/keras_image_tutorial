{
 "cells": [
  {
   "cell_type": "markdown",
   "metadata": {},
   "source": [
    "# Building powerful image classification models using very little data\n",
    "\n",
    "https://blog.keras.io/building-powerful-image-classification-models-using-very-little-data.html"
   ]
  },
  {
   "cell_type": "code",
   "execution_count": 1,
   "metadata": {},
   "outputs": [],
   "source": [
    "%load_ext autoreload\n",
    "%autoreload 2"
   ]
  },
  {
   "cell_type": "code",
   "execution_count": 2,
   "metadata": {},
   "outputs": [],
   "source": [
    "%matplotlib inline"
   ]
  },
  {
   "cell_type": "code",
   "execution_count": 3,
   "metadata": {},
   "outputs": [],
   "source": [
    "import os\n",
    "import datetime as dt\n",
    "import numpy as np\n",
    "import pandas as pd"
   ]
  },
  {
   "cell_type": "code",
   "execution_count": 4,
   "metadata": {},
   "outputs": [
    {
     "name": "stderr",
     "output_type": "stream",
     "text": [
      "Using TensorFlow backend.\n"
     ]
    }
   ],
   "source": [
    "from keras.preprocessing.image import ImageDataGenerator\n",
    "from keras.preprocessing.image import array_to_img, img_to_array, load_img"
   ]
  },
  {
   "cell_type": "code",
   "execution_count": 5,
   "metadata": {},
   "outputs": [],
   "source": [
    "from keras.models import Sequential, Model\n",
    "from keras.layers import Conv2D, MaxPooling2D\n",
    "from keras.layers import Activation, Dropout, Flatten, Dense\n",
    "from keras import applications\n",
    "from keras import optimizers"
   ]
  },
  {
   "cell_type": "code",
   "execution_count": 6,
   "metadata": {},
   "outputs": [],
   "source": [
    "from keras import backend as K\n",
    "K.set_image_dim_ordering('th')"
   ]
  },
  {
   "cell_type": "code",
   "execution_count": null,
   "metadata": {},
   "outputs": [],
   "source": []
  },
  {
   "cell_type": "markdown",
   "metadata": {},
   "source": [
    "### VGG16 model\n",
    "\n",
    "We will only instantiate the convolutional part of the model, everything up to the fully-connected layers. We will then run this model on our training and validation data once, recording the output (the \"bottleneck features\" from th VGG16 model: the last activation maps before the fully-connected layers) in two numpy arrays. Then we will train a small fully-connected model on top of the stored features."
   ]
  },
  {
   "cell_type": "code",
   "execution_count": 7,
   "metadata": {},
   "outputs": [],
   "source": [
    "# build the VGG16 network\n",
    "vgg16 = applications.VGG16(include_top=False, weights='imagenet', input_shape=(3, 150, 150))"
   ]
  },
  {
   "cell_type": "markdown",
   "metadata": {},
   "source": [
    "### Data generators and store features"
   ]
  },
  {
   "cell_type": "code",
   "execution_count": 17,
   "metadata": {},
   "outputs": [],
   "source": [
    "# ideally we want use original VGG image prepossessing mean\n",
    "datagen = ImageDataGenerator(rescale=1. / 255, featurewise_center=True)\n",
    "datagen.mean = np.array([103.939 / 255, 116.779 / 255, 123.68 / 255], dtype=np.float32).reshape(3, 1, 1)"
   ]
  },
  {
   "cell_type": "code",
   "execution_count": 18,
   "metadata": {},
   "outputs": [],
   "source": [
    "batch_size = 16\n",
    "nb_train_samples = 4000\n",
    "nb_validation_samples = 800\n",
    "epochs = 50"
   ]
  },
  {
   "cell_type": "code",
   "execution_count": 19,
   "metadata": {},
   "outputs": [
    {
     "name": "stdout",
     "output_type": "stream",
     "text": [
      "Found 4000 images belonging to 2 classes.\n"
     ]
    }
   ],
   "source": [
    "generator = datagen.flow_from_directory(\n",
    "        'data/train',\n",
    "        target_size=(150, 150),\n",
    "        batch_size=batch_size,\n",
    "        class_mode=None,     # this means our generator will only yield batches of data, no labels\n",
    "        shuffle=False)       # our data will be in order, so all first half will be cats, then dogs\n",
    "\n",
    "# the predict_generator method returns the output of a model, given\n",
    "# a generator that yields batches of numpy data\n",
    "bottleneck_features_train = vgg16.predict_generator(generator, nb_train_samples // batch_size)"
   ]
  },
  {
   "cell_type": "code",
   "execution_count": 20,
   "metadata": {},
   "outputs": [],
   "source": [
    "# save the output as a numpy array\n",
    "np.save('bottleneck_features_train.npy', bottleneck_features_train)"
   ]
  },
  {
   "cell_type": "code",
   "execution_count": 21,
   "metadata": {},
   "outputs": [
    {
     "name": "stdout",
     "output_type": "stream",
     "text": [
      "Found 800 images belonging to 2 classes.\n"
     ]
    }
   ],
   "source": [
    "generator = datagen.flow_from_directory(\n",
    "        'data/validation',\n",
    "        target_size=(150, 150),\n",
    "        batch_size=batch_size,\n",
    "        class_mode=None,\n",
    "        shuffle=False)\n",
    "\n",
    "bottleneck_features_validation = vgg16.predict_generator(generator, nb_validation_samples // batch_size)"
   ]
  },
  {
   "cell_type": "code",
   "execution_count": 22,
   "metadata": {},
   "outputs": [],
   "source": [
    "# save the output as a numpy array\n",
    "np.save('bottleneck_features_validation.npy', bottleneck_features_validation)"
   ]
  },
  {
   "cell_type": "code",
   "execution_count": null,
   "metadata": {},
   "outputs": [],
   "source": []
  },
  {
   "cell_type": "markdown",
   "metadata": {},
   "source": [
    "### Build FC top layer"
   ]
  },
  {
   "cell_type": "code",
   "execution_count": 23,
   "metadata": {},
   "outputs": [],
   "source": [
    "# the features were saved in order, so recreating the labels is easy\n",
    "train_data = np.load('bottleneck_features_train.npy')\n",
    "train_labels = np.array([0] * (nb_train_samples // 2) + [1] * (nb_train_samples // 2))\n",
    "\n",
    "validation_data = np.load('bottleneck_features_validation.npy')\n",
    "validation_labels = np.array([0] * (nb_validation_samples // 2) + [1] * (nb_validation_samples // 2))"
   ]
  },
  {
   "cell_type": "code",
   "execution_count": 24,
   "metadata": {},
   "outputs": [
    {
     "name": "stdout",
     "output_type": "stream",
     "text": [
      "(4000, 512, 4, 4)\n",
      "(4000,)\n",
      "(800, 512, 4, 4)\n",
      "(800,)\n"
     ]
    }
   ],
   "source": [
    "print(train_data.shape)\n",
    "print(train_labels.shape)\n",
    "print(validation_data.shape)\n",
    "print(validation_labels.shape)"
   ]
  },
  {
   "cell_type": "code",
   "execution_count": 25,
   "metadata": {},
   "outputs": [],
   "source": [
    "model = Sequential()\n",
    "model.add(Flatten(input_shape=train_data.shape[1:]))\n",
    "model.add(Dense(256, activation='relu'))\n",
    "model.add(Dropout(0.7))\n",
    "model.add(Dense(1, activation='sigmoid'))"
   ]
  },
  {
   "cell_type": "code",
   "execution_count": 26,
   "metadata": {},
   "outputs": [],
   "source": [
    "model.compile(optimizer='rmsprop',\n",
    "              loss='binary_crossentropy',\n",
    "              metrics=['accuracy'])"
   ]
  },
  {
   "cell_type": "code",
   "execution_count": 27,
   "metadata": {},
   "outputs": [
    {
     "name": "stdout",
     "output_type": "stream",
     "text": [
      "Train on 4000 samples, validate on 800 samples\n",
      "Epoch 1/50\n",
      "4000/4000 [==============================] - 7s 2ms/step - loss: 0.6014 - acc: 0.7735 - val_loss: 0.2817 - val_acc: 0.8875\n",
      "Epoch 2/50\n",
      "4000/4000 [==============================] - 6s 2ms/step - loss: 0.3491 - acc: 0.8582 - val_loss: 0.4420 - val_acc: 0.8100\n",
      "Epoch 3/50\n",
      "4000/4000 [==============================] - 6s 2ms/step - loss: 0.3160 - acc: 0.8765 - val_loss: 0.2844 - val_acc: 0.8838\n",
      "Epoch 4/50\n",
      "4000/4000 [==============================] - 6s 2ms/step - loss: 0.2979 - acc: 0.8868 - val_loss: 0.2637 - val_acc: 0.8838\n",
      "Epoch 5/50\n",
      "4000/4000 [==============================] - 6s 2ms/step - loss: 0.2872 - acc: 0.8880 - val_loss: 0.2909 - val_acc: 0.8925\n",
      "Epoch 6/50\n",
      "4000/4000 [==============================] - 6s 2ms/step - loss: 0.2672 - acc: 0.9058 - val_loss: 0.2807 - val_acc: 0.8962\n",
      "Epoch 7/50\n",
      "4000/4000 [==============================] - 6s 2ms/step - loss: 0.2481 - acc: 0.9095 - val_loss: 0.3164 - val_acc: 0.9012\n",
      "Epoch 8/50\n",
      "4000/4000 [==============================] - 6s 2ms/step - loss: 0.2486 - acc: 0.9100 - val_loss: 0.2756 - val_acc: 0.8900\n",
      "Epoch 9/50\n",
      "4000/4000 [==============================] - 6s 2ms/step - loss: 0.2389 - acc: 0.9205 - val_loss: 0.3741 - val_acc: 0.8912\n",
      "Epoch 10/50\n",
      "4000/4000 [==============================] - 6s 2ms/step - loss: 0.2251 - acc: 0.9243 - val_loss: 0.2897 - val_acc: 0.8962\n",
      "Epoch 11/50\n",
      "4000/4000 [==============================] - 6s 2ms/step - loss: 0.2094 - acc: 0.9257 - val_loss: 0.3236 - val_acc: 0.9012\n",
      "Epoch 12/50\n",
      "4000/4000 [==============================] - 6s 2ms/step - loss: 0.2053 - acc: 0.9303 - val_loss: 0.3390 - val_acc: 0.8950\n",
      "Epoch 13/50\n",
      "4000/4000 [==============================] - 6s 2ms/step - loss: 0.1961 - acc: 0.9303 - val_loss: 0.3675 - val_acc: 0.8950\n",
      "Epoch 14/50\n",
      "4000/4000 [==============================] - 6s 2ms/step - loss: 0.2023 - acc: 0.9290 - val_loss: 0.3359 - val_acc: 0.8975\n",
      "Epoch 15/50\n",
      "4000/4000 [==============================] - 6s 2ms/step - loss: 0.1871 - acc: 0.9345 - val_loss: 0.3219 - val_acc: 0.9000\n",
      "Epoch 16/50\n",
      "4000/4000 [==============================] - 6s 2ms/step - loss: 0.1853 - acc: 0.9337 - val_loss: 0.3773 - val_acc: 0.9012\n",
      "Epoch 17/50\n",
      "4000/4000 [==============================] - 6s 2ms/step - loss: 0.1899 - acc: 0.9375 - val_loss: 0.3271 - val_acc: 0.8975\n",
      "Epoch 18/50\n",
      "4000/4000 [==============================] - 6s 2ms/step - loss: 0.1789 - acc: 0.9377 - val_loss: 0.3574 - val_acc: 0.9038\n",
      "Epoch 19/50\n",
      "4000/4000 [==============================] - 6s 2ms/step - loss: 0.1619 - acc: 0.9433 - val_loss: 0.3598 - val_acc: 0.8988\n",
      "Epoch 20/50\n",
      "4000/4000 [==============================] - 6s 2ms/step - loss: 0.1794 - acc: 0.9457 - val_loss: 0.3719 - val_acc: 0.8912\n",
      "Epoch 21/50\n",
      "4000/4000 [==============================] - 6s 2ms/step - loss: 0.1669 - acc: 0.9425 - val_loss: 0.3358 - val_acc: 0.8900\n",
      "Epoch 22/50\n",
      "4000/4000 [==============================] - 6s 2ms/step - loss: 0.1567 - acc: 0.9467 - val_loss: 0.3789 - val_acc: 0.9012\n",
      "Epoch 23/50\n",
      "4000/4000 [==============================] - 6s 2ms/step - loss: 0.1452 - acc: 0.9512 - val_loss: 0.4047 - val_acc: 0.9000\n",
      "Epoch 24/50\n",
      "4000/4000 [==============================] - 6s 2ms/step - loss: 0.1521 - acc: 0.9475 - val_loss: 0.3677 - val_acc: 0.9087\n",
      "Epoch 25/50\n",
      "4000/4000 [==============================] - 6s 2ms/step - loss: 0.1462 - acc: 0.9545 - val_loss: 0.4005 - val_acc: 0.9000\n",
      "Epoch 26/50\n",
      "4000/4000 [==============================] - 6s 2ms/step - loss: 0.1553 - acc: 0.9495 - val_loss: 0.3822 - val_acc: 0.9000\n",
      "Epoch 27/50\n",
      "4000/4000 [==============================] - 6s 2ms/step - loss: 0.1310 - acc: 0.9595 - val_loss: 0.4100 - val_acc: 0.8962\n",
      "Epoch 28/50\n",
      "4000/4000 [==============================] - 6s 2ms/step - loss: 0.1502 - acc: 0.9525 - val_loss: 0.4008 - val_acc: 0.9050\n",
      "Epoch 29/50\n",
      "4000/4000 [==============================] - 6s 2ms/step - loss: 0.1321 - acc: 0.9603 - val_loss: 0.3905 - val_acc: 0.9025\n",
      "Epoch 30/50\n",
      "4000/4000 [==============================] - 6s 2ms/step - loss: 0.1356 - acc: 0.9590 - val_loss: 0.3773 - val_acc: 0.9125\n",
      "Epoch 31/50\n",
      "4000/4000 [==============================] - 6s 2ms/step - loss: 0.1306 - acc: 0.9563 - val_loss: 0.4437 - val_acc: 0.9137\n",
      "Epoch 32/50\n",
      "4000/4000 [==============================] - 6s 2ms/step - loss: 0.1329 - acc: 0.9617 - val_loss: 0.4079 - val_acc: 0.9012\n",
      "Epoch 33/50\n",
      "4000/4000 [==============================] - 6s 2ms/step - loss: 0.1210 - acc: 0.9625 - val_loss: 0.4355 - val_acc: 0.9075\n",
      "Epoch 34/50\n",
      "4000/4000 [==============================] - 6s 2ms/step - loss: 0.1324 - acc: 0.9595 - val_loss: 0.4034 - val_acc: 0.9075\n",
      "Epoch 35/50\n",
      "4000/4000 [==============================] - 6s 2ms/step - loss: 0.1233 - acc: 0.9617 - val_loss: 0.4097 - val_acc: 0.9050\n",
      "Epoch 36/50\n",
      "4000/4000 [==============================] - 6s 2ms/step - loss: 0.1201 - acc: 0.9627 - val_loss: 0.4983 - val_acc: 0.9025\n",
      "Epoch 37/50\n",
      "4000/4000 [==============================] - 6s 2ms/step - loss: 0.1238 - acc: 0.9630 - val_loss: 0.4573 - val_acc: 0.9100\n",
      "Epoch 38/50\n",
      "4000/4000 [==============================] - 6s 2ms/step - loss: 0.1093 - acc: 0.9667 - val_loss: 0.4639 - val_acc: 0.9113\n",
      "Epoch 39/50\n",
      "4000/4000 [==============================] - 6s 2ms/step - loss: 0.1103 - acc: 0.9670 - val_loss: 0.5146 - val_acc: 0.8875\n",
      "Epoch 40/50\n",
      "4000/4000 [==============================] - 6s 2ms/step - loss: 0.1130 - acc: 0.9658 - val_loss: 0.4081 - val_acc: 0.9075\n",
      "Epoch 41/50\n",
      "4000/4000 [==============================] - 6s 2ms/step - loss: 0.0902 - acc: 0.9683 - val_loss: 0.4740 - val_acc: 0.9012\n",
      "Epoch 42/50\n",
      "4000/4000 [==============================] - 6s 2ms/step - loss: 0.0969 - acc: 0.9695 - val_loss: 0.4781 - val_acc: 0.9075\n",
      "Epoch 43/50\n",
      "4000/4000 [==============================] - 6s 2ms/step - loss: 0.1046 - acc: 0.9667 - val_loss: 0.4761 - val_acc: 0.9125\n",
      "Epoch 44/50\n",
      "4000/4000 [==============================] - 6s 2ms/step - loss: 0.0990 - acc: 0.9665 - val_loss: 0.5382 - val_acc: 0.8862\n",
      "Epoch 45/50\n",
      "4000/4000 [==============================] - 6s 2ms/step - loss: 0.0861 - acc: 0.9752 - val_loss: 0.4739 - val_acc: 0.9113\n",
      "Epoch 46/50\n",
      "4000/4000 [==============================] - 6s 2ms/step - loss: 0.1043 - acc: 0.9685 - val_loss: 0.4938 - val_acc: 0.9050\n",
      "Epoch 47/50\n",
      "4000/4000 [==============================] - 6s 2ms/step - loss: 0.0833 - acc: 0.9738 - val_loss: 0.5195 - val_acc: 0.9050\n",
      "Epoch 48/50\n",
      "4000/4000 [==============================] - 6s 2ms/step - loss: 0.0831 - acc: 0.9780 - val_loss: 0.5003 - val_acc: 0.9075\n",
      "Epoch 49/50\n",
      "4000/4000 [==============================] - 6s 2ms/step - loss: 0.0842 - acc: 0.9735 - val_loss: 0.4856 - val_acc: 0.9100\n",
      "Epoch 50/50\n",
      "4000/4000 [==============================] - 6s 2ms/step - loss: 0.0943 - acc: 0.9750 - val_loss: 0.5663 - val_acc: 0.9038\n"
     ]
    }
   ],
   "source": [
    "model_history = model.fit(train_data, train_labels,\n",
    "          epochs=epochs,\n",
    "          batch_size=batch_size,\n",
    "          validation_data=(validation_data, validation_labels))\n",
    "model.save_weights('bottleneck_fc_model.h5')"
   ]
  },
  {
   "cell_type": "code",
   "execution_count": 28,
   "metadata": {},
   "outputs": [
    {
     "data": {
      "image/png": "[encoded data removed]",
      "text/plain": [
       "<Figure size 432x288 with 1 Axes>"
      ]
     },
     "metadata": {
      "needs_background": "light"
     },
     "output_type": "display_data"
    }
   ],
   "source": [
    "pd.DataFrame(model_history.history).plot();"
   ]
  },
  {
   "cell_type": "code",
   "execution_count": null,
   "metadata": {},
   "outputs": [],
   "source": []
  },
  {
   "cell_type": "markdown",
   "metadata": {},
   "source": [
    "### Fine tuning the model by training Conv block 5\n",
    "\n",
    "Note that:\n",
    "\n",
    "- In order to perform fine-tuning, all layers should start with properly trained weights: for instance you should not slap a randomly initialized fully-connected network on top of a pre-trained convolutional base. This is because the large gradient updates triggered by the randomly initialized weights would wreck the learned weights in the convolutional base. In our case this is why we first train the top-level classifier, and only then start fine-tuning convolutional weights alongside it.\n",
    "- We choose to only fine-tune the last convolutional block rather than the entire network in order to prevent overfitting, since the entire network would have a very large entropic capacity and thus a strong tendency to overfit. The features learned by low-level convolutional blocks are more general, less abstract than those found higher-up, so it is sensible to keep the first few blocks fixed (more general features) and only fine-tune the last one (more specialized features).\n",
    "- Fine-tuning should be done with a very slow learning rate, and typically with the SGD optimizer rather than an adaptative learning rate optimizer such as RMSProp. This is to make sure that the magnitude of the updates stays very small, so as not to wreck the previously learned features."
   ]
  },
  {
   "cell_type": "code",
   "execution_count": 29,
   "metadata": {},
   "outputs": [],
   "source": [
    "# build a classifier model to put on top of the convolutional model\n",
    "top_model = Sequential()\n",
    "top_model.add(Flatten(input_shape=train_data.shape[1:]))\n",
    "top_model.add(Dense(256, activation='relu'))\n",
    "top_model.add(Dropout(0.7))\n",
    "top_model.add(Dense(1, activation='sigmoid'))\n",
    "\n",
    "# note that it is necessary to start with a fully-trained classifier, including the top classifier,\n",
    "# in order to successfully do fine-tuning\n",
    "top_model.load_weights('bottleneck_fc_model.h5')\n",
    "\n",
    "# add the model on top of the VGG16 convolutional base\n",
    "model_full = Model(inputs=vgg16.input, outputs=top_model(vgg16.output))"
   ]
  },
  {
   "cell_type": "code",
   "execution_count": 30,
   "metadata": {},
   "outputs": [],
   "source": [
    "# set the first 15 layers (up to the last conv block) to non-trainable (weights will not be updated)\n",
    "for layer in model_full.layers[:15]:\n",
    "    layer.trainable = False"
   ]
  },
  {
   "cell_type": "code",
   "execution_count": 31,
   "metadata": {},
   "outputs": [],
   "source": [
    "# compile the model with a SGD/momentum optimizer and a very slow learning rate.\n",
    "model_full.compile(loss='binary_crossentropy',\n",
    "    optimizer=optimizers.SGD(lr=1e-4, momentum=0.9),\n",
    "    metrics=['accuracy'])"
   ]
  },
  {
   "cell_type": "code",
   "execution_count": 32,
   "metadata": {},
   "outputs": [
    {
     "name": "stdout",
     "output_type": "stream",
     "text": [
      "Found 4000 images belonging to 2 classes.\n",
      "Found 800 images belonging to 2 classes.\n"
     ]
    }
   ],
   "source": [
    "# prepare data augmentation configuration\n",
    "train_datagen = ImageDataGenerator(\n",
    "        rescale=1./255,\n",
    "        shear_range=0.2,\n",
    "        zoom_range=0.2,\n",
    "        horizontal_flip=True)\n",
    "\n",
    "test_datagen = ImageDataGenerator(rescale=1./255)\n",
    "\n",
    "train_generator = train_datagen.flow_from_directory(\n",
    "        'data/train',\n",
    "        target_size=(150, 150),\n",
    "        batch_size=batch_size,\n",
    "        class_mode='binary')\n",
    "\n",
    "validation_generator = test_datagen.flow_from_directory(\n",
    "        'data/validation',\n",
    "        target_size=(150, 150),\n",
    "        batch_size=batch_size,\n",
    "        class_mode='binary')"
   ]
  },
  {
   "cell_type": "code",
   "execution_count": 33,
   "metadata": {},
   "outputs": [
    {
     "name": "stdout",
     "output_type": "stream",
     "text": [
      "Epoch 1/50\n",
      "250/250 [==============================] - 1587s 6s/step - loss: 0.4157 - acc: 0.8210 - val_loss: 0.4061 - val_acc: 0.8100\n",
      "Epoch 2/50\n",
      "250/250 [==============================] - 1587s 6s/step - loss: 0.2933 - acc: 0.8642 - val_loss: 0.2439 - val_acc: 0.9175\n",
      "Epoch 3/50\n",
      "250/250 [==============================] - 1583s 6s/step - loss: 0.2443 - acc: 0.8998 - val_loss: 0.2054 - val_acc: 0.9337\n",
      "Epoch 4/50\n",
      "250/250 [==============================] - 1640s 7s/step - loss: 0.2067 - acc: 0.9090 - val_loss: 0.2082 - val_acc: 0.9487\n",
      "Epoch 5/50\n",
      "250/250 [==============================] - 1750s 7s/step - loss: 0.1920 - acc: 0.9250 - val_loss: 0.2887 - val_acc: 0.8912\n",
      "Epoch 6/50\n",
      "250/250 [==============================] - 1825s 7s/step - loss: 0.1630 - acc: 0.9365 - val_loss: 0.2337 - val_acc: 0.9500\n",
      "Epoch 7/50\n",
      "250/250 [==============================] - 1797s 7s/step - loss: 0.1479 - acc: 0.9367 - val_loss: 0.1889 - val_acc: 0.9400\n",
      "Epoch 8/50\n",
      "250/250 [==============================] - 1644s 7s/step - loss: 0.1322 - acc: 0.9493 - val_loss: 0.2090 - val_acc: 0.9413\n",
      "Epoch 9/50\n",
      "250/250 [==============================] - 1599s 6s/step - loss: 0.1130 - acc: 0.9572 - val_loss: 0.2563 - val_acc: 0.9475\n",
      "Epoch 10/50\n",
      "250/250 [==============================] - 1604s 6s/step - loss: 0.1198 - acc: 0.9540 - val_loss: 0.2027 - val_acc: 0.9075\n",
      "Epoch 11/50\n",
      "250/250 [==============================] - 1597s 6s/step - loss: 0.1051 - acc: 0.9567 - val_loss: 0.1926 - val_acc: 0.9413\n",
      "Epoch 12/50\n",
      "250/250 [==============================] - 1594s 6s/step - loss: 0.0857 - acc: 0.9670 - val_loss: 0.2878 - val_acc: 0.9437\n",
      "Epoch 13/50\n",
      "250/250 [==============================] - 1588s 6s/step - loss: 0.0913 - acc: 0.9690 - val_loss: 0.1572 - val_acc: 0.9350\n",
      "Epoch 14/50\n",
      "250/250 [==============================] - 1590s 6s/step - loss: 0.0933 - acc: 0.9663 - val_loss: 0.3133 - val_acc: 0.9375\n",
      "Epoch 15/50\n",
      "250/250 [==============================] - 1582s 6s/step - loss: 0.0924 - acc: 0.9613 - val_loss: 0.2276 - val_acc: 0.9525\n",
      "Epoch 16/50\n",
      "250/250 [==============================] - 1579s 6s/step - loss: 0.0728 - acc: 0.9717 - val_loss: 0.2000 - val_acc: 0.9525\n",
      "Epoch 17/50\n",
      "250/250 [==============================] - 1583s 6s/step - loss: 0.0847 - acc: 0.9663 - val_loss: 0.1976 - val_acc: 0.9563\n",
      "Epoch 18/50\n",
      "250/250 [==============================] - 1576s 6s/step - loss: 0.0623 - acc: 0.9758 - val_loss: 0.1870 - val_acc: 0.9537\n",
      "Epoch 19/50\n",
      "250/250 [==============================] - 1580s 6s/step - loss: 0.0683 - acc: 0.9733 - val_loss: 0.1969 - val_acc: 0.9563\n",
      "Epoch 20/50\n",
      "250/250 [==============================] - 1581s 6s/step - loss: 0.0489 - acc: 0.9770 - val_loss: 0.2751 - val_acc: 0.9487\n",
      "Epoch 21/50\n",
      "250/250 [==============================] - 1579s 6s/step - loss: 0.0412 - acc: 0.9825 - val_loss: 0.3329 - val_acc: 0.9387\n",
      "Epoch 22/50\n",
      "250/250 [==============================] - 1586s 6s/step - loss: 0.0567 - acc: 0.9765 - val_loss: 0.2612 - val_acc: 0.9525\n",
      "Epoch 23/50\n",
      "250/250 [==============================] - 1577s 6s/step - loss: 0.0441 - acc: 0.9850 - val_loss: 0.2458 - val_acc: 0.9563\n",
      "Epoch 24/50\n",
      "250/250 [==============================] - 1578s 6s/step - loss: 0.0375 - acc: 0.9840 - val_loss: 0.2027 - val_acc: 0.9587\n",
      "Epoch 25/50\n",
      "250/250 [==============================] - 1572s 6s/step - loss: 0.0395 - acc: 0.9840 - val_loss: 0.2577 - val_acc: 0.9487\n",
      "Epoch 26/50\n",
      "250/250 [==============================] - 1579s 6s/step - loss: 0.0391 - acc: 0.9845 - val_loss: 0.2060 - val_acc: 0.9537\n",
      "Epoch 27/50\n",
      "250/250 [==============================] - 1584s 6s/step - loss: 0.0249 - acc: 0.9908 - val_loss: 0.2590 - val_acc: 0.9613\n",
      "Epoch 28/50\n",
      "250/250 [==============================] - 1580s 6s/step - loss: 0.0368 - acc: 0.9865 - val_loss: 0.2826 - val_acc: 0.9487\n",
      "Epoch 29/50\n",
      "250/250 [==============================] - 1581s 6s/step - loss: 0.0348 - acc: 0.9872 - val_loss: 0.3298 - val_acc: 0.9450\n",
      "Epoch 30/50\n",
      "250/250 [==============================] - 1577s 6s/step - loss: 0.0225 - acc: 0.9910 - val_loss: 0.3026 - val_acc: 0.9537\n",
      "Epoch 31/50\n",
      "250/250 [==============================] - 1582s 6s/step - loss: 0.0381 - acc: 0.9860 - val_loss: 0.2648 - val_acc: 0.9525\n",
      "Epoch 32/50\n",
      "250/250 [==============================] - 1577s 6s/step - loss: 0.0302 - acc: 0.9888 - val_loss: 0.2668 - val_acc: 0.9575\n",
      "Epoch 33/50\n",
      "250/250 [==============================] - 1612s 6s/step - loss: 0.0214 - acc: 0.9915 - val_loss: 0.3180 - val_acc: 0.9563\n",
      "Epoch 34/50\n",
      "250/250 [==============================] - 1820s 7s/step - loss: 0.0262 - acc: 0.9902 - val_loss: 0.3674 - val_acc: 0.9475\n",
      "Epoch 35/50\n",
      "250/250 [==============================] - 1735s 7s/step - loss: 0.0219 - acc: 0.9915 - val_loss: 0.2883 - val_acc: 0.9537\n",
      "Epoch 36/50\n",
      "250/250 [==============================] - 1580s 6s/step - loss: 0.0227 - acc: 0.9918 - val_loss: 0.2560 - val_acc: 0.9625\n",
      "Epoch 37/50\n",
      "250/250 [==============================] - 1592s 6s/step - loss: 0.0151 - acc: 0.9942 - val_loss: 0.3612 - val_acc: 0.9537\n",
      "Epoch 38/50\n",
      "250/250 [==============================] - 1612s 6s/step - loss: 0.0316 - acc: 0.9908 - val_loss: 0.2557 - val_acc: 0.9575\n",
      "Epoch 39/50\n",
      "250/250 [==============================] - 1600s 6s/step - loss: 0.0275 - acc: 0.9913 - val_loss: 0.3001 - val_acc: 0.9550\n",
      "Epoch 40/50\n",
      "250/250 [==============================] - 1609s 6s/step - loss: 0.0196 - acc: 0.9930 - val_loss: 0.2995 - val_acc: 0.9600\n",
      "Epoch 41/50\n",
      "250/250 [==============================] - 1652s 7s/step - loss: 0.0142 - acc: 0.9945 - val_loss: 0.3973 - val_acc: 0.9463\n",
      "Epoch 42/50\n",
      "250/250 [==============================] - 1614s 6s/step - loss: 0.0127 - acc: 0.9948 - val_loss: 0.3557 - val_acc: 0.9587\n",
      "Epoch 43/50\n",
      "250/250 [==============================] - 1616s 6s/step - loss: 0.0206 - acc: 0.9930 - val_loss: 0.4023 - val_acc: 0.9537\n",
      "Epoch 44/50\n",
      "250/250 [==============================] - 1613s 6s/step - loss: 0.0285 - acc: 0.9890 - val_loss: 0.3752 - val_acc: 0.9513\n",
      "Epoch 45/50\n",
      "250/250 [==============================] - 1636s 7s/step - loss: 0.0204 - acc: 0.9915 - val_loss: 0.3338 - val_acc: 0.9537\n",
      "Epoch 46/50\n",
      "250/250 [==============================] - 1678s 7s/step - loss: 0.0198 - acc: 0.9923 - val_loss: 0.4030 - val_acc: 0.9425\n",
      "Epoch 47/50\n",
      "250/250 [==============================] - 1823s 7s/step - loss: 0.0268 - acc: 0.9923 - val_loss: 0.2770 - val_acc: 0.9513\n",
      "Epoch 48/50\n",
      "250/250 [==============================] - 1754s 7s/step - loss: 0.0279 - acc: 0.9915 - val_loss: 0.3064 - val_acc: 0.9563\n",
      "Epoch 49/50\n",
      "250/250 [==============================] - 1735s 7s/step - loss: 0.0170 - acc: 0.9948 - val_loss: 0.3059 - val_acc: 0.9513\n",
      "Epoch 50/50\n",
      "250/250 [==============================] - 1746s 7s/step - loss: 0.0060 - acc: 0.9975 - val_loss: 0.3291 - val_acc: 0.9550\n"
     ]
    }
   ],
   "source": [
    "# fine-tune the model\n",
    "model_history = model_full.fit_generator(\n",
    "    train_generator,\n",
    "    steps_per_epoch=nb_train_samples // batch_size,\n",
    "    epochs=epochs,\n",
    "    validation_data=validation_generator,\n",
    "    validation_steps=nb_validation_samples // batch_size)\n",
    "model_full.save_weights('fine_tuned_vgg16.h5')"
   ]
  },
  {
   "cell_type": "code",
   "execution_count": 34,
   "metadata": {},
   "outputs": [
    {
     "data": {
      "image/png": "[encoded data removed]",
      "text/plain": [
       "<Figure size 432x288 with 1 Axes>"
      ]
     },
     "metadata": {
      "needs_background": "light"
     },
     "output_type": "display_data"
    }
   ],
   "source": [
    "pd.DataFrame(model_history.history).plot();"
   ]
  },
  {
   "cell_type": "code",
   "execution_count": null,
   "metadata": {},
   "outputs": [],
   "source": []
  }
 ],
 "metadata": {
  "kernelspec": {
   "display_name": "Python 3",
   "language": "python",
   "name": "python3"
  },
  "language_info": {
   "codemirror_mode": {
    "name": "ipython",
    "version": 3
   },
   "file_extension": ".py",
   "mimetype": "text/x-python",
   "name": "python",
   "nbconvert_exporter": "python",
   "pygments_lexer": "ipython3",
   "version": "3.6.8"
  }
 },
 "nbformat": 4,
 "nbformat_minor": 2
}
