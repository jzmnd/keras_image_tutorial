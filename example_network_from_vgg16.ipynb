{
 "cells": [
  {
   "cell_type": "markdown",
   "metadata": {},
   "source": [
    "# Building powerful image classification models using very little data\n",
    "\n",
    "https://blog.keras.io/building-powerful-image-classification-models-using-very-little-data.html"
   ]
  },
  {
   "cell_type": "code",
   "execution_count": 1,
   "metadata": {},
   "outputs": [],
   "source": [
    "%load_ext autoreload\n",
    "%autoreload 2"
   ]
  },
  {
   "cell_type": "code",
   "execution_count": 2,
   "metadata": {},
   "outputs": [],
   "source": [
    "%matplotlib inline"
   ]
  },
  {
   "cell_type": "code",
   "execution_count": 3,
   "metadata": {},
   "outputs": [],
   "source": [
    "import os\n",
    "import datetime as dt\n",
    "import numpy as np\n",
    "import pandas as pd"
   ]
  },
  {
   "cell_type": "code",
   "execution_count": 4,
   "metadata": {},
   "outputs": [
    {
     "name": "stderr",
     "output_type": "stream",
     "text": [
      "Using TensorFlow backend.\n"
     ]
    }
   ],
   "source": [
    "from keras.preprocessing.image import ImageDataGenerator\n",
    "from keras.preprocessing.image import array_to_img, img_to_array, load_img"
   ]
  },
  {
   "cell_type": "code",
   "execution_count": 56,
   "metadata": {},
   "outputs": [],
   "source": [
    "from keras.models import Sequential, Model\n",
    "from keras.layers import Conv2D, MaxPooling2D\n",
    "from keras.layers import Activation, Dropout, Flatten, Dense\n",
    "from keras import applications\n",
    "from keras import optimizers"
   ]
  },
  {
   "cell_type": "code",
   "execution_count": 6,
   "metadata": {},
   "outputs": [],
   "source": [
    "from keras import backend as K\n",
    "K.set_image_dim_ordering('th')"
   ]
  },
  {
   "cell_type": "code",
   "execution_count": null,
   "metadata": {},
   "outputs": [],
   "source": []
  },
  {
   "cell_type": "markdown",
   "metadata": {},
   "source": [
    "### VGG16 model\n",
    "\n",
    "We will only instantiate the convolutional part of the model, everything up to the fully-connected layers. We will then run this model on our training and validation data once, recording the output (the \"bottleneck features\" from th VGG16 model: the last activation maps before the fully-connected layers) in two numpy arrays. Then we will train a small fully-connected model on top of the stored features."
   ]
  },
  {
   "cell_type": "code",
   "execution_count": 47,
   "metadata": {},
   "outputs": [],
   "source": [
    "# build the VGG16 network\n",
    "vgg16 = applications.VGG16(include_top=False, weights='imagenet', input_shape=(3, 150, 150))"
   ]
  },
  {
   "cell_type": "markdown",
   "metadata": {},
   "source": [
    "### Data generators and store features"
   ]
  },
  {
   "cell_type": "code",
   "execution_count": 8,
   "metadata": {},
   "outputs": [],
   "source": [
    "# ideally we want use original VGG image prepossessing mean and no scale\n",
    "# datagen = ImageDataGenerator(rescale=1., featurewise_center=True)\n",
    "# datagen.mean = np.array([103.939, 116.779, 123.68], dtype=np.float32).reshape(1, 1, 3)"
   ]
  },
  {
   "cell_type": "code",
   "execution_count": 9,
   "metadata": {},
   "outputs": [],
   "source": [
    "datagen = ImageDataGenerator(rescale=1. / 255)"
   ]
  },
  {
   "cell_type": "code",
   "execution_count": 10,
   "metadata": {},
   "outputs": [],
   "source": [
    "batch_size = 16\n",
    "nb_train_samples = 4000\n",
    "nb_validation_samples = 800\n",
    "epochs = 50"
   ]
  },
  {
   "cell_type": "code",
   "execution_count": 11,
   "metadata": {},
   "outputs": [
    {
     "name": "stdout",
     "output_type": "stream",
     "text": [
      "Found 4000 images belonging to 2 classes.\n"
     ]
    }
   ],
   "source": [
    "generator = datagen.flow_from_directory(\n",
    "        'data/train',\n",
    "        target_size=(150, 150),\n",
    "        batch_size=batch_size,\n",
    "        class_mode=None,     # this means our generator will only yield batches of data, no labels\n",
    "        shuffle=False)       # our data will be in order, so all first half will be cats, then dogs\n",
    "\n",
    "# the predict_generator method returns the output of a model, given\n",
    "# a generator that yields batches of numpy data\n",
    "bottleneck_features_train = vgg16.predict_generator(generator, nb_train_samples // batch_size)"
   ]
  },
  {
   "cell_type": "code",
   "execution_count": 16,
   "metadata": {},
   "outputs": [],
   "source": [
    "# save the output as a numpy array\n",
    "np.save('bottleneck_features_train.npy', bottleneck_features_train)"
   ]
  },
  {
   "cell_type": "code",
   "execution_count": 17,
   "metadata": {},
   "outputs": [
    {
     "name": "stdout",
     "output_type": "stream",
     "text": [
      "Found 800 images belonging to 2 classes.\n"
     ]
    }
   ],
   "source": [
    "generator = datagen.flow_from_directory(\n",
    "        'data/validation',\n",
    "        target_size=(150, 150),\n",
    "        batch_size=batch_size,\n",
    "        class_mode=None,\n",
    "        shuffle=False)\n",
    "\n",
    "bottleneck_features_validation = vgg16.predict_generator(generator, nb_validation_samples // batch_size)"
   ]
  },
  {
   "cell_type": "code",
   "execution_count": 18,
   "metadata": {},
   "outputs": [],
   "source": [
    "# save the output as a numpy array\n",
    "np.save('bottleneck_features_validation.npy', bottleneck_features_validation)"
   ]
  },
  {
   "cell_type": "code",
   "execution_count": null,
   "metadata": {},
   "outputs": [],
   "source": []
  },
  {
   "cell_type": "markdown",
   "metadata": {},
   "source": [
    "### Build FC top layer"
   ]
  },
  {
   "cell_type": "code",
   "execution_count": 26,
   "metadata": {},
   "outputs": [],
   "source": [
    "# the features were saved in order, so recreating the labels is easy\n",
    "train_data = np.load('bottleneck_features_train.npy')\n",
    "train_labels = np.array([0] * (nb_train_samples // 2) + [1] * (nb_train_samples // 2))\n",
    "\n",
    "validation_data = np.load('bottleneck_features_validation.npy')\n",
    "validation_labels = np.array([0] * (nb_validation_samples // 2) + [1] * (nb_validation_samples // 2))"
   ]
  },
  {
   "cell_type": "code",
   "execution_count": 27,
   "metadata": {},
   "outputs": [
    {
     "name": "stdout",
     "output_type": "stream",
     "text": [
      "(4000, 512, 4, 4)\n",
      "(4000,)\n",
      "(800, 512, 4, 4)\n",
      "(800,)\n"
     ]
    }
   ],
   "source": [
    "print(train_data.shape)\n",
    "print(train_labels.shape)\n",
    "print(validation_data.shape)\n",
    "print(validation_labels.shape)"
   ]
  },
  {
   "cell_type": "code",
   "execution_count": 28,
   "metadata": {},
   "outputs": [],
   "source": [
    "model = Sequential()\n",
    "model.add(Flatten(input_shape=train_data.shape[1:]))\n",
    "model.add(Dense(256, activation='relu'))\n",
    "model.add(Dropout(0.7))\n",
    "model.add(Dense(1, activation='sigmoid'))"
   ]
  },
  {
   "cell_type": "code",
   "execution_count": 29,
   "metadata": {},
   "outputs": [],
   "source": [
    "model.compile(optimizer='rmsprop',\n",
    "              loss='binary_crossentropy',\n",
    "              metrics=['accuracy'])"
   ]
  },
  {
   "cell_type": "code",
   "execution_count": 30,
   "metadata": {},
   "outputs": [
    {
     "name": "stdout",
     "output_type": "stream",
     "text": [
      "Train on 4000 samples, validate on 800 samples\n",
      "Epoch 1/50\n",
      "4000/4000 [==============================] - 7s 2ms/step - loss: 0.5920 - acc: 0.7765 - val_loss: 0.3065 - val_acc: 0.8662\n",
      "Epoch 2/50\n",
      "4000/4000 [==============================] - 7s 2ms/step - loss: 0.3754 - acc: 0.8515 - val_loss: 0.3302 - val_acc: 0.8900\n",
      "Epoch 3/50\n",
      "4000/4000 [==============================] - 7s 2ms/step - loss: 0.3375 - acc: 0.8725 - val_loss: 0.2833 - val_acc: 0.8825\n",
      "Epoch 4/50\n",
      "4000/4000 [==============================] - 7s 2ms/step - loss: 0.3164 - acc: 0.8790 - val_loss: 0.2980 - val_acc: 0.8862\n",
      "Epoch 5/50\n",
      "4000/4000 [==============================] - 7s 2ms/step - loss: 0.2985 - acc: 0.8862 - val_loss: 0.2810 - val_acc: 0.9050\n",
      "Epoch 6/50\n",
      "4000/4000 [==============================] - 7s 2ms/step - loss: 0.2775 - acc: 0.9010 - val_loss: 0.3649 - val_acc: 0.8850\n",
      "Epoch 7/50\n",
      "4000/4000 [==============================] - 7s 2ms/step - loss: 0.2745 - acc: 0.8982 - val_loss: 0.3031 - val_acc: 0.8962\n",
      "Epoch 8/50\n",
      "4000/4000 [==============================] - 7s 2ms/step - loss: 0.2618 - acc: 0.9040 - val_loss: 0.3553 - val_acc: 0.8875\n",
      "Epoch 9/50\n",
      "4000/4000 [==============================] - 7s 2ms/step - loss: 0.2614 - acc: 0.9052 - val_loss: 0.3089 - val_acc: 0.8950\n",
      "Epoch 10/50\n",
      "4000/4000 [==============================] - 7s 2ms/step - loss: 0.2455 - acc: 0.9108 - val_loss: 0.3024 - val_acc: 0.9012\n",
      "Epoch 11/50\n",
      "4000/4000 [==============================] - 7s 2ms/step - loss: 0.2326 - acc: 0.9168 - val_loss: 0.3252 - val_acc: 0.8888\n",
      "Epoch 12/50\n",
      "4000/4000 [==============================] - 7s 2ms/step - loss: 0.2221 - acc: 0.9220 - val_loss: 0.3190 - val_acc: 0.9087\n",
      "Epoch 13/50\n",
      "4000/4000 [==============================] - 7s 2ms/step - loss: 0.2136 - acc: 0.9317 - val_loss: 0.3221 - val_acc: 0.8988\n",
      "Epoch 14/50\n",
      "4000/4000 [==============================] - 7s 2ms/step - loss: 0.2169 - acc: 0.9283 - val_loss: 0.3356 - val_acc: 0.8888\n",
      "Epoch 15/50\n",
      "4000/4000 [==============================] - 7s 2ms/step - loss: 0.1936 - acc: 0.9335 - val_loss: 0.4253 - val_acc: 0.8925\n",
      "Epoch 16/50\n",
      "4000/4000 [==============================] - 7s 2ms/step - loss: 0.1937 - acc: 0.9337 - val_loss: 0.3443 - val_acc: 0.9000\n",
      "Epoch 17/50\n",
      "4000/4000 [==============================] - 7s 2ms/step - loss: 0.1980 - acc: 0.9310 - val_loss: 0.3382 - val_acc: 0.9025\n",
      "Epoch 18/50\n",
      "4000/4000 [==============================] - 7s 2ms/step - loss: 0.1841 - acc: 0.9340 - val_loss: 0.3723 - val_acc: 0.9012\n",
      "Epoch 19/50\n",
      "4000/4000 [==============================] - 7s 2ms/step - loss: 0.1812 - acc: 0.9435 - val_loss: 0.4674 - val_acc: 0.8925\n",
      "Epoch 20/50\n",
      "4000/4000 [==============================] - 7s 2ms/step - loss: 0.1732 - acc: 0.9447 - val_loss: 0.3772 - val_acc: 0.8925\n",
      "Epoch 21/50\n",
      "4000/4000 [==============================] - 7s 2ms/step - loss: 0.1774 - acc: 0.9413 - val_loss: 0.4246 - val_acc: 0.8975\n",
      "Epoch 22/50\n",
      "4000/4000 [==============================] - 7s 2ms/step - loss: 0.1707 - acc: 0.9415 - val_loss: 0.4416 - val_acc: 0.8812\n",
      "Epoch 23/50\n",
      "4000/4000 [==============================] - 7s 2ms/step - loss: 0.1524 - acc: 0.9505 - val_loss: 0.4084 - val_acc: 0.8988\n",
      "Epoch 24/50\n",
      "4000/4000 [==============================] - 7s 2ms/step - loss: 0.1685 - acc: 0.9447 - val_loss: 0.3938 - val_acc: 0.9050\n",
      "Epoch 25/50\n",
      "4000/4000 [==============================] - 7s 2ms/step - loss: 0.1612 - acc: 0.9485 - val_loss: 0.4071 - val_acc: 0.8988\n",
      "Epoch 26/50\n",
      "4000/4000 [==============================] - 7s 2ms/step - loss: 0.1473 - acc: 0.9517 - val_loss: 0.4170 - val_acc: 0.9025\n",
      "Epoch 27/50\n",
      "4000/4000 [==============================] - 7s 2ms/step - loss: 0.1521 - acc: 0.9522 - val_loss: 0.5938 - val_acc: 0.8688\n",
      "Epoch 28/50\n",
      "4000/4000 [==============================] - 7s 2ms/step - loss: 0.1423 - acc: 0.9560 - val_loss: 0.4361 - val_acc: 0.8975\n",
      "Epoch 29/50\n",
      "4000/4000 [==============================] - 7s 2ms/step - loss: 0.1356 - acc: 0.9510 - val_loss: 0.4517 - val_acc: 0.8962\n",
      "Epoch 30/50\n",
      "4000/4000 [==============================] - 7s 2ms/step - loss: 0.1353 - acc: 0.9560 - val_loss: 0.4742 - val_acc: 0.9012\n",
      "Epoch 31/50\n",
      "4000/4000 [==============================] - 8s 2ms/step - loss: 0.1332 - acc: 0.9577 - val_loss: 0.4297 - val_acc: 0.9050\n",
      "Epoch 32/50\n",
      "4000/4000 [==============================] - 7s 2ms/step - loss: 0.1375 - acc: 0.9590 - val_loss: 0.4611 - val_acc: 0.9012\n",
      "Epoch 33/50\n",
      "4000/4000 [==============================] - 8s 2ms/step - loss: 0.1268 - acc: 0.9617 - val_loss: 0.4547 - val_acc: 0.9050\n",
      "Epoch 34/50\n",
      "4000/4000 [==============================] - 6s 2ms/step - loss: 0.1223 - acc: 0.9605 - val_loss: 0.4209 - val_acc: 0.9038\n",
      "Epoch 35/50\n",
      "4000/4000 [==============================] - 7s 2ms/step - loss: 0.1093 - acc: 0.9663 - val_loss: 0.4815 - val_acc: 0.9025\n",
      "Epoch 36/50\n",
      "4000/4000 [==============================] - 8s 2ms/step - loss: 0.1121 - acc: 0.9660 - val_loss: 0.4776 - val_acc: 0.8962\n",
      "Epoch 37/50\n",
      "4000/4000 [==============================] - 7s 2ms/step - loss: 0.1175 - acc: 0.9645 - val_loss: 0.5157 - val_acc: 0.8988\n",
      "Epoch 38/50\n",
      "4000/4000 [==============================] - 7s 2ms/step - loss: 0.1062 - acc: 0.9670 - val_loss: 0.5304 - val_acc: 0.8988\n",
      "Epoch 39/50\n",
      "4000/4000 [==============================] - 7s 2ms/step - loss: 0.1060 - acc: 0.9637 - val_loss: 0.4549 - val_acc: 0.9025\n",
      "Epoch 40/50\n",
      "4000/4000 [==============================] - 7s 2ms/step - loss: 0.0972 - acc: 0.9698 - val_loss: 0.5289 - val_acc: 0.9025\n",
      "Epoch 41/50\n",
      "4000/4000 [==============================] - 7s 2ms/step - loss: 0.1260 - acc: 0.9627 - val_loss: 0.4997 - val_acc: 0.9025\n",
      "Epoch 42/50\n",
      "4000/4000 [==============================] - 7s 2ms/step - loss: 0.1004 - acc: 0.9700 - val_loss: 0.4890 - val_acc: 0.9038\n",
      "Epoch 43/50\n",
      "4000/4000 [==============================] - 7s 2ms/step - loss: 0.0959 - acc: 0.9700 - val_loss: 0.5568 - val_acc: 0.9038\n",
      "Epoch 44/50\n",
      "4000/4000 [==============================] - 7s 2ms/step - loss: 0.1064 - acc: 0.9692 - val_loss: 0.5193 - val_acc: 0.8975\n",
      "Epoch 45/50\n",
      "4000/4000 [==============================] - 7s 2ms/step - loss: 0.1094 - acc: 0.9745 - val_loss: 0.5094 - val_acc: 0.9038\n",
      "Epoch 46/50\n",
      "4000/4000 [==============================] - 7s 2ms/step - loss: 0.0830 - acc: 0.9760 - val_loss: 0.5866 - val_acc: 0.8988\n",
      "Epoch 47/50\n",
      "4000/4000 [==============================] - 7s 2ms/step - loss: 0.0793 - acc: 0.9765 - val_loss: 0.5627 - val_acc: 0.8988\n",
      "Epoch 48/50\n",
      "4000/4000 [==============================] - 7s 2ms/step - loss: 0.1022 - acc: 0.9715 - val_loss: 0.5721 - val_acc: 0.8988\n",
      "Epoch 49/50\n",
      "4000/4000 [==============================] - 7s 2ms/step - loss: 0.0971 - acc: 0.9740 - val_loss: 0.5393 - val_acc: 0.9025\n",
      "Epoch 50/50\n",
      "4000/4000 [==============================] - 7s 2ms/step - loss: 0.0898 - acc: 0.9755 - val_loss: 0.5801 - val_acc: 0.9062\n"
     ]
    }
   ],
   "source": [
    "model_history = model.fit(train_data, train_labels,\n",
    "          epochs=epochs,\n",
    "          batch_size=batch_size,\n",
    "          validation_data=(validation_data, validation_labels))\n",
    "model.save_weights('bottleneck_fc_model.h5')"
   ]
  },
  {
   "cell_type": "code",
   "execution_count": 31,
   "metadata": {},
   "outputs": [
    {
     "data": {
      "image/png": "[encoded data removed]",
      "text/plain": [
       "<Figure size 432x288 with 1 Axes>"
      ]
     },
     "metadata": {
      "needs_background": "light"
     },
     "output_type": "display_data"
    }
   ],
   "source": [
    "pd.DataFrame(model_history.history).plot();"
   ]
  },
  {
   "cell_type": "code",
   "execution_count": null,
   "metadata": {},
   "outputs": [],
   "source": []
  },
  {
   "cell_type": "markdown",
   "metadata": {},
   "source": [
    "### Fine tuning the model by training Conv block 5\n",
    "\n",
    "Note that:\n",
    "\n",
    "- In order to perform fine-tuning, all layers should start with properly trained weights: for instance you should not slap a randomly initialized fully-connected network on top of a pre-trained convolutional base. This is because the large gradient updates triggered by the randomly initialized weights would wreck the learned weights in the convolutional base. In our case this is why we first train the top-level classifier, and only then start fine-tuning convolutional weights alongside it.\n",
    "- We choose to only fine-tune the last convolutional block rather than the entire network in order to prevent overfitting, since the entire network would have a very large entropic capacity and thus a strong tendency to overfit. The features learned by low-level convolutional blocks are more general, less abstract than those found higher-up, so it is sensible to keep the first few blocks fixed (more general features) and only fine-tune the last one (more specialized features).\n",
    "- Fine-tuning should be done with a very slow learning rate, and typically with the SGD optimizer rather than an adaptative learning rate optimizer such as RMSProp. This is to make sure that the magnitude of the updates stays very small, so as not to wreck the previously learned features."
   ]
  },
  {
   "cell_type": "code",
   "execution_count": 53,
   "metadata": {},
   "outputs": [],
   "source": [
    "# build a classifier model to put on top of the convolutional model\n",
    "top_model = Sequential()\n",
    "top_model.add(Flatten(input_shape=train_data.shape[1:]))\n",
    "top_model.add(Dense(256, activation='relu'))\n",
    "top_model.add(Dropout(0.7))\n",
    "top_model.add(Dense(1, activation='sigmoid'))\n",
    "\n",
    "# note that it is necessary to start with a fully-trained classifier, including the top classifier,\n",
    "# in order to successfully do fine-tuning\n",
    "top_model.load_weights('bottleneck_fc_model.h5')\n",
    "\n",
    "# add the model on top of the VGG16 convolutional base\n",
    "model_full = Model(inputs=vgg16.input, outputs=top_model(vgg16.output))"
   ]
  },
  {
   "cell_type": "code",
   "execution_count": 54,
   "metadata": {},
   "outputs": [],
   "source": [
    "# set the first 15 layers (up to the last conv block) to non-trainable (weights will not be updated)\n",
    "for layer in model_full.layers[:15]:\n",
    "    layer.trainable = False"
   ]
  },
  {
   "cell_type": "code",
   "execution_count": 57,
   "metadata": {},
   "outputs": [],
   "source": [
    "# compile the model with a SGD/momentum optimizer and a very slow learning rate.\n",
    "model_full.compile(loss='binary_crossentropy',\n",
    "    optimizer=optimizers.SGD(lr=1e-4, momentum=0.9),\n",
    "    metrics=['accuracy'])"
   ]
  },
  {
   "cell_type": "code",
   "execution_count": 59,
   "metadata": {},
   "outputs": [
    {
     "name": "stdout",
     "output_type": "stream",
     "text": [
      "Found 4000 images belonging to 2 classes.\n",
      "Found 800 images belonging to 2 classes.\n"
     ]
    }
   ],
   "source": [
    "# prepare data augmentation configuration\n",
    "train_datagen = ImageDataGenerator(\n",
    "        rescale=1./255,\n",
    "        shear_range=0.2,\n",
    "        zoom_range=0.2,\n",
    "        horizontal_flip=True)\n",
    "\n",
    "test_datagen = ImageDataGenerator(rescale=1./255)\n",
    "\n",
    "train_generator = train_datagen.flow_from_directory(\n",
    "        'data/train',\n",
    "        target_size=(150, 150),\n",
    "        batch_size=batch_size,\n",
    "        class_mode='binary')\n",
    "\n",
    "validation_generator = test_datagen.flow_from_directory(\n",
    "        'data/validation',\n",
    "        target_size=(150, 150),\n",
    "        batch_size=batch_size,\n",
    "        class_mode='binary')"
   ]
  },
  {
   "cell_type": "code",
   "execution_count": 60,
   "metadata": {},
   "outputs": [
    {
     "name": "stdout",
     "output_type": "stream",
     "text": [
      "Epoch 1/50\n",
      "250/250 [==============================] - 1898s 8s/step - loss: 0.4263 - acc: 0.8233 - val_loss: 0.4311 - val_acc: 0.8850\n",
      "Epoch 2/50\n",
      "250/250 [==============================] - 1939s 8s/step - loss: 0.2757 - acc: 0.8895 - val_loss: 0.2425 - val_acc: 0.9300\n",
      "Epoch 3/50\n",
      "250/250 [==============================] - 1757s 7s/step - loss: 0.2273 - acc: 0.9160 - val_loss: 0.2202 - val_acc: 0.9350\n",
      "Epoch 4/50\n",
      " 39/250 [===>..........................] - ETA: 22:15 - loss: 0.2174 - acc: 0.9151"
     ]
    },
    {
     "ename": "KeyboardInterrupt",
     "evalue": "",
     "output_type": "error",
     "traceback": [
      "\u001b[0;31m---------------------------------------------------------------------------\u001b[0m",
      "\u001b[0;31mKeyboardInterrupt\u001b[0m                         Traceback (most recent call last)",
      "\u001b[0;32m<ipython-input-60-f96ea2be7d74>\u001b[0m in \u001b[0;36m<module>\u001b[0;34m()\u001b[0m\n\u001b[1;32m      5\u001b[0m     \u001b[0mepochs\u001b[0m\u001b[0;34m=\u001b[0m\u001b[0mepochs\u001b[0m\u001b[0;34m,\u001b[0m\u001b[0;34m\u001b[0m\u001b[0;34m\u001b[0m\u001b[0m\n\u001b[1;32m      6\u001b[0m     \u001b[0mvalidation_data\u001b[0m\u001b[0;34m=\u001b[0m\u001b[0mvalidation_generator\u001b[0m\u001b[0;34m,\u001b[0m\u001b[0;34m\u001b[0m\u001b[0;34m\u001b[0m\u001b[0m\n\u001b[0;32m----> 7\u001b[0;31m     validation_steps=nb_validation_samples // batch_size)\n\u001b[0m\u001b[1;32m      8\u001b[0m \u001b[0mmodel_full\u001b[0m\u001b[0;34m.\u001b[0m\u001b[0msave_weights\u001b[0m\u001b[0;34m(\u001b[0m\u001b[0;34m'fine_tuned_vgg16.h5'\u001b[0m\u001b[0;34m)\u001b[0m\u001b[0;34m\u001b[0m\u001b[0;34m\u001b[0m\u001b[0m\n",
      "\u001b[0;32m~/anaconda3/lib/python3.6/site-packages/keras/legacy/interfaces.py\u001b[0m in \u001b[0;36mwrapper\u001b[0;34m(*args, **kwargs)\u001b[0m\n\u001b[1;32m     89\u001b[0m                 warnings.warn('Update your `' + object_name + '` call to the ' +\n\u001b[1;32m     90\u001b[0m                               'Keras 2 API: ' + signature, stacklevel=2)\n\u001b[0;32m---> 91\u001b[0;31m             \u001b[0;32mreturn\u001b[0m \u001b[0mfunc\u001b[0m\u001b[0;34m(\u001b[0m\u001b[0;34m*\u001b[0m\u001b[0margs\u001b[0m\u001b[0;34m,\u001b[0m \u001b[0;34m**\u001b[0m\u001b[0mkwargs\u001b[0m\u001b[0;34m)\u001b[0m\u001b[0;34m\u001b[0m\u001b[0;34m\u001b[0m\u001b[0m\n\u001b[0m\u001b[1;32m     92\u001b[0m         \u001b[0mwrapper\u001b[0m\u001b[0;34m.\u001b[0m\u001b[0m_original_function\u001b[0m \u001b[0;34m=\u001b[0m \u001b[0mfunc\u001b[0m\u001b[0;34m\u001b[0m\u001b[0;34m\u001b[0m\u001b[0m\n\u001b[1;32m     93\u001b[0m         \u001b[0;32mreturn\u001b[0m \u001b[0mwrapper\u001b[0m\u001b[0;34m\u001b[0m\u001b[0;34m\u001b[0m\u001b[0m\n",
      "\u001b[0;32m~/anaconda3/lib/python3.6/site-packages/keras/engine/training.py\u001b[0m in \u001b[0;36mfit_generator\u001b[0;34m(self, generator, steps_per_epoch, epochs, verbose, callbacks, validation_data, validation_steps, class_weight, max_queue_size, workers, use_multiprocessing, shuffle, initial_epoch)\u001b[0m\n\u001b[1;32m   1416\u001b[0m             \u001b[0muse_multiprocessing\u001b[0m\u001b[0;34m=\u001b[0m\u001b[0muse_multiprocessing\u001b[0m\u001b[0;34m,\u001b[0m\u001b[0;34m\u001b[0m\u001b[0;34m\u001b[0m\u001b[0m\n\u001b[1;32m   1417\u001b[0m             \u001b[0mshuffle\u001b[0m\u001b[0;34m=\u001b[0m\u001b[0mshuffle\u001b[0m\u001b[0;34m,\u001b[0m\u001b[0;34m\u001b[0m\u001b[0;34m\u001b[0m\u001b[0m\n\u001b[0;32m-> 1418\u001b[0;31m             initial_epoch=initial_epoch)\n\u001b[0m\u001b[1;32m   1419\u001b[0m \u001b[0;34m\u001b[0m\u001b[0m\n\u001b[1;32m   1420\u001b[0m     \u001b[0;34m@\u001b[0m\u001b[0minterfaces\u001b[0m\u001b[0;34m.\u001b[0m\u001b[0mlegacy_generator_methods_support\u001b[0m\u001b[0;34m\u001b[0m\u001b[0;34m\u001b[0m\u001b[0m\n",
      "\u001b[0;32m~/anaconda3/lib/python3.6/site-packages/keras/engine/training_generator.py\u001b[0m in \u001b[0;36mfit_generator\u001b[0;34m(model, generator, steps_per_epoch, epochs, verbose, callbacks, validation_data, validation_steps, class_weight, max_queue_size, workers, use_multiprocessing, shuffle, initial_epoch)\u001b[0m\n\u001b[1;32m    215\u001b[0m                 outs = model.train_on_batch(x, y,\n\u001b[1;32m    216\u001b[0m                                             \u001b[0msample_weight\u001b[0m\u001b[0;34m=\u001b[0m\u001b[0msample_weight\u001b[0m\u001b[0;34m,\u001b[0m\u001b[0;34m\u001b[0m\u001b[0;34m\u001b[0m\u001b[0m\n\u001b[0;32m--> 217\u001b[0;31m                                             class_weight=class_weight)\n\u001b[0m\u001b[1;32m    218\u001b[0m \u001b[0;34m\u001b[0m\u001b[0m\n\u001b[1;32m    219\u001b[0m                 \u001b[0mouts\u001b[0m \u001b[0;34m=\u001b[0m \u001b[0mto_list\u001b[0m\u001b[0;34m(\u001b[0m\u001b[0mouts\u001b[0m\u001b[0;34m)\u001b[0m\u001b[0;34m\u001b[0m\u001b[0;34m\u001b[0m\u001b[0m\n",
      "\u001b[0;32m~/anaconda3/lib/python3.6/site-packages/keras/engine/training.py\u001b[0m in \u001b[0;36mtrain_on_batch\u001b[0;34m(self, x, y, sample_weight, class_weight)\u001b[0m\n\u001b[1;32m   1215\u001b[0m             \u001b[0mins\u001b[0m \u001b[0;34m=\u001b[0m \u001b[0mx\u001b[0m \u001b[0;34m+\u001b[0m \u001b[0my\u001b[0m \u001b[0;34m+\u001b[0m \u001b[0msample_weights\u001b[0m\u001b[0;34m\u001b[0m\u001b[0;34m\u001b[0m\u001b[0m\n\u001b[1;32m   1216\u001b[0m         \u001b[0mself\u001b[0m\u001b[0;34m.\u001b[0m\u001b[0m_make_train_function\u001b[0m\u001b[0;34m(\u001b[0m\u001b[0;34m)\u001b[0m\u001b[0;34m\u001b[0m\u001b[0;34m\u001b[0m\u001b[0m\n\u001b[0;32m-> 1217\u001b[0;31m         \u001b[0moutputs\u001b[0m \u001b[0;34m=\u001b[0m \u001b[0mself\u001b[0m\u001b[0;34m.\u001b[0m\u001b[0mtrain_function\u001b[0m\u001b[0;34m(\u001b[0m\u001b[0mins\u001b[0m\u001b[0;34m)\u001b[0m\u001b[0;34m\u001b[0m\u001b[0;34m\u001b[0m\u001b[0m\n\u001b[0m\u001b[1;32m   1218\u001b[0m         \u001b[0;32mreturn\u001b[0m \u001b[0munpack_singleton\u001b[0m\u001b[0;34m(\u001b[0m\u001b[0moutputs\u001b[0m\u001b[0;34m)\u001b[0m\u001b[0;34m\u001b[0m\u001b[0;34m\u001b[0m\u001b[0m\n\u001b[1;32m   1219\u001b[0m \u001b[0;34m\u001b[0m\u001b[0m\n",
      "\u001b[0;32m~/anaconda3/lib/python3.6/site-packages/keras/backend/tensorflow_backend.py\u001b[0m in \u001b[0;36m__call__\u001b[0;34m(self, inputs)\u001b[0m\n\u001b[1;32m   2713\u001b[0m                 \u001b[0;32mreturn\u001b[0m \u001b[0mself\u001b[0m\u001b[0;34m.\u001b[0m\u001b[0m_legacy_call\u001b[0m\u001b[0;34m(\u001b[0m\u001b[0minputs\u001b[0m\u001b[0;34m)\u001b[0m\u001b[0;34m\u001b[0m\u001b[0;34m\u001b[0m\u001b[0m\n\u001b[1;32m   2714\u001b[0m \u001b[0;34m\u001b[0m\u001b[0m\n\u001b[0;32m-> 2715\u001b[0;31m             \u001b[0;32mreturn\u001b[0m \u001b[0mself\u001b[0m\u001b[0;34m.\u001b[0m\u001b[0m_call\u001b[0m\u001b[0;34m(\u001b[0m\u001b[0minputs\u001b[0m\u001b[0;34m)\u001b[0m\u001b[0;34m\u001b[0m\u001b[0;34m\u001b[0m\u001b[0m\n\u001b[0m\u001b[1;32m   2716\u001b[0m         \u001b[0;32melse\u001b[0m\u001b[0;34m:\u001b[0m\u001b[0;34m\u001b[0m\u001b[0;34m\u001b[0m\u001b[0m\n\u001b[1;32m   2717\u001b[0m             \u001b[0;32mif\u001b[0m \u001b[0mpy_any\u001b[0m\u001b[0;34m(\u001b[0m\u001b[0mis_tensor\u001b[0m\u001b[0;34m(\u001b[0m\u001b[0mx\u001b[0m\u001b[0;34m)\u001b[0m \u001b[0;32mfor\u001b[0m \u001b[0mx\u001b[0m \u001b[0;32min\u001b[0m \u001b[0minputs\u001b[0m\u001b[0;34m)\u001b[0m\u001b[0;34m:\u001b[0m\u001b[0;34m\u001b[0m\u001b[0;34m\u001b[0m\u001b[0m\n",
      "\u001b[0;32m~/anaconda3/lib/python3.6/site-packages/keras/backend/tensorflow_backend.py\u001b[0m in \u001b[0;36m_call\u001b[0;34m(self, inputs)\u001b[0m\n\u001b[1;32m   2673\u001b[0m             \u001b[0mfetched\u001b[0m \u001b[0;34m=\u001b[0m \u001b[0mself\u001b[0m\u001b[0;34m.\u001b[0m\u001b[0m_callable_fn\u001b[0m\u001b[0;34m(\u001b[0m\u001b[0;34m*\u001b[0m\u001b[0marray_vals\u001b[0m\u001b[0;34m,\u001b[0m \u001b[0mrun_metadata\u001b[0m\u001b[0;34m=\u001b[0m\u001b[0mself\u001b[0m\u001b[0;34m.\u001b[0m\u001b[0mrun_metadata\u001b[0m\u001b[0;34m)\u001b[0m\u001b[0;34m\u001b[0m\u001b[0;34m\u001b[0m\u001b[0m\n\u001b[1;32m   2674\u001b[0m         \u001b[0;32melse\u001b[0m\u001b[0;34m:\u001b[0m\u001b[0;34m\u001b[0m\u001b[0;34m\u001b[0m\u001b[0m\n\u001b[0;32m-> 2675\u001b[0;31m             \u001b[0mfetched\u001b[0m \u001b[0;34m=\u001b[0m \u001b[0mself\u001b[0m\u001b[0;34m.\u001b[0m\u001b[0m_callable_fn\u001b[0m\u001b[0;34m(\u001b[0m\u001b[0;34m*\u001b[0m\u001b[0marray_vals\u001b[0m\u001b[0;34m)\u001b[0m\u001b[0;34m\u001b[0m\u001b[0;34m\u001b[0m\u001b[0m\n\u001b[0m\u001b[1;32m   2676\u001b[0m         \u001b[0;32mreturn\u001b[0m \u001b[0mfetched\u001b[0m\u001b[0;34m[\u001b[0m\u001b[0;34m:\u001b[0m\u001b[0mlen\u001b[0m\u001b[0;34m(\u001b[0m\u001b[0mself\u001b[0m\u001b[0;34m.\u001b[0m\u001b[0moutputs\u001b[0m\u001b[0;34m)\u001b[0m\u001b[0;34m]\u001b[0m\u001b[0;34m\u001b[0m\u001b[0;34m\u001b[0m\u001b[0m\n\u001b[1;32m   2677\u001b[0m \u001b[0;34m\u001b[0m\u001b[0m\n",
      "\u001b[0;32m~/anaconda3/lib/python3.6/site-packages/tensorflow/python/client/session.py\u001b[0m in \u001b[0;36m__call__\u001b[0;34m(self, *args, **kwargs)\u001b[0m\n\u001b[1;32m   1380\u001b[0m           ret = tf_session.TF_SessionRunCallable(\n\u001b[1;32m   1381\u001b[0m               \u001b[0mself\u001b[0m\u001b[0;34m.\u001b[0m\u001b[0m_session\u001b[0m\u001b[0;34m.\u001b[0m\u001b[0m_session\u001b[0m\u001b[0;34m,\u001b[0m \u001b[0mself\u001b[0m\u001b[0;34m.\u001b[0m\u001b[0m_handle\u001b[0m\u001b[0;34m,\u001b[0m \u001b[0margs\u001b[0m\u001b[0;34m,\u001b[0m \u001b[0mstatus\u001b[0m\u001b[0;34m,\u001b[0m\u001b[0;34m\u001b[0m\u001b[0;34m\u001b[0m\u001b[0m\n\u001b[0;32m-> 1382\u001b[0;31m               run_metadata_ptr)\n\u001b[0m\u001b[1;32m   1383\u001b[0m         \u001b[0;32mif\u001b[0m \u001b[0mrun_metadata\u001b[0m\u001b[0;34m:\u001b[0m\u001b[0;34m\u001b[0m\u001b[0;34m\u001b[0m\u001b[0m\n\u001b[1;32m   1384\u001b[0m           \u001b[0mproto_data\u001b[0m \u001b[0;34m=\u001b[0m \u001b[0mtf_session\u001b[0m\u001b[0;34m.\u001b[0m\u001b[0mTF_GetBuffer\u001b[0m\u001b[0;34m(\u001b[0m\u001b[0mrun_metadata_ptr\u001b[0m\u001b[0;34m)\u001b[0m\u001b[0;34m\u001b[0m\u001b[0;34m\u001b[0m\u001b[0m\n",
      "\u001b[0;31mKeyboardInterrupt\u001b[0m: "
     ]
    }
   ],
   "source": [
    "# fine-tune the model\n",
    "model_history = model_full.fit_generator(\n",
    "    train_generator,\n",
    "    steps_per_epoch=nb_train_samples // batch_size,\n",
    "    epochs=epochs,\n",
    "    validation_data=validation_generator,\n",
    "    validation_steps=nb_validation_samples // batch_size)\n",
    "model_full.save_weights('fine_tuned_vgg16.h5')"
   ]
  },
  {
   "cell_type": "code",
   "execution_count": null,
   "metadata": {},
   "outputs": [],
   "source": [
    "pd.DataFrame(model_history.history).plot();"
   ]
  },
  {
   "cell_type": "code",
   "execution_count": null,
   "metadata": {},
   "outputs": [],
   "source": []
  }
 ],
 "metadata": {
  "kernelspec": {
   "display_name": "Python 3",
   "language": "python",
   "name": "python3"
  },
  "language_info": {
   "codemirror_mode": {
    "name": "ipython",
    "version": 3
   },
   "file_extension": ".py",
   "mimetype": "text/x-python",
   "name": "python",
   "nbconvert_exporter": "python",
   "pygments_lexer": "ipython3",
   "version": "3.6.8"
  }
 },
 "nbformat": 4,
 "nbformat_minor": 2
}
